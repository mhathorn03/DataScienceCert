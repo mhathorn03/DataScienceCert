{
 "cells": [
  {
   "cell_type": "markdown",
   "id": "abf37871-f00c-48f3-a500-4293f09f37be",
   "metadata": {},
   "source": [
    "# Data Science Tools and Ecosystem"
   ]
  },
  {
   "cell_type": "markdown",
   "id": "ae6e6c8f-86eb-4f0a-8c11-7005489e3960",
   "metadata": {},
   "source": [
    "In this notebook, Data Science Tools and Ecosystem are summarized. "
   ]
  },
  {
   "cell_type": "markdown",
   "id": "0c52f086-f6d2-4c18-b2c9-ad53bc9ec36a",
   "metadata": {},
   "source": [
    "Some of the popular languages that Data Scientists use are: "
   ]
  },
  {
   "cell_type": "markdown",
   "id": "7ac56149-06aa-473f-ad82-41c806f1881a",
   "metadata": {},
   "source": [
    "1. Python\n",
    "2. R\n",
    "3. Java"
   ]
  },
  {
   "cell_type": "markdown",
   "id": "1ef7b4b5-45bd-41a0-8762-97fbd18b5e88",
   "metadata": {},
   "source": [
    "Some of the commonly used libraries used by Data Scientists include: "
   ]
  },
  {
   "cell_type": "markdown",
   "id": "46978fc5-8750-4731-a8f2-9c7720213df9",
   "metadata": {},
   "source": [
    "1. ggplot\n",
    "2. caret\n",
    "3. Pandas"
   ]
  },
  {
   "cell_type": "markdown",
   "id": "a7ab2f09-ea1e-433b-9fb0-a7922ff2a0a2",
   "metadata": {},
   "source": [
    "| Data Science Tools |\n",
    "|--------------------|\n",
    "| Jupyter Notebook |\n",
    "| RStudio |\n",
    "| Spyder |"
   ]
  },
  {
   "cell_type": "markdown",
   "id": "4bf35d80-c45d-447d-a7a2-6516d626622d",
   "metadata": {},
   "source": [
    "### Below are a few examples of evaluating arithmetic expressions in Python"
   ]
  },
  {
   "cell_type": "markdown",
   "id": "b633946a-88a3-4842-a776-fa409ccbebf5",
   "metadata": {},
   "source": [
    "This is a simple aithemtic expression to multiply then add integers"
   ]
  },
  {
   "cell_type": "code",
   "execution_count": 2,
   "id": "31b31b1c-a3a4-4237-8cf1-5521f94de43c",
   "metadata": {},
   "outputs": [
    {
     "data": {
      "text/plain": [
       "17"
      ]
     },
     "execution_count": 2,
     "metadata": {},
     "output_type": "execute_result"
    }
   ],
   "source": [
    "(3*4)+5"
   ]
  },
  {
   "cell_type": "markdown",
   "id": "9b2b7db6-d466-499c-bab0-52041610e6af",
   "metadata": {},
   "source": [
    "This will convert 200 minutes to hours by dividing by 60"
   ]
  },
  {
   "cell_type": "code",
   "execution_count": 3,
   "id": "5b284983-2699-44ac-a5d9-ea9f951d37c8",
   "metadata": {},
   "outputs": [
    {
     "data": {
      "text/plain": [
       "3.3333333333333335"
      ]
     },
     "execution_count": 3,
     "metadata": {},
     "output_type": "execute_result"
    }
   ],
   "source": [
    "200/60"
   ]
  },
  {
   "cell_type": "markdown",
   "id": "8626f68f-02f7-4bf4-9504-a3cc4e97db07",
   "metadata": {},
   "source": [
    "**Objectives:**"
   ]
  },
  {
   "cell_type": "markdown",
   "id": "85f3de12-a03b-4d82-ad35-cef03e4dfc0e",
   "metadata": {},
   "source": [
    "- List popular languages for Data Science\n",
    "- List popular libraries for Data Science\n",
    "- Create a table for Data Science tools\n",
    "- Practice arithmetic expressions"
   ]
  },
  {
   "cell_type": "markdown",
   "id": "553bd316-fdb7-434e-932b-8b2de7be3979",
   "metadata": {},
   "source": [
    "## Author"
   ]
  },
  {
   "cell_type": "markdown",
   "id": "bdd35e6f-084f-4f3e-9e68-a2bbc61d4c37",
   "metadata": {},
   "source": [
    "Mary Hathorn"
   ]
  },
  {
   "cell_type": "code",
   "execution_count": null,
   "id": "ccdf19dc-d857-433a-b182-b2e9ea88732c",
   "metadata": {},
   "outputs": [],
   "source": []
  }
 ],
 "metadata": {
  "kernelspec": {
   "display_name": "Python 3 (ipykernel)",
   "language": "python",
   "name": "python3"
  },
  "language_info": {
   "codemirror_mode": {
    "name": "ipython",
    "version": 3
   },
   "file_extension": ".py",
   "mimetype": "text/x-python",
   "name": "python",
   "nbconvert_exporter": "python",
   "pygments_lexer": "ipython3",
   "version": "3.11.7"
  }
 },
 "nbformat": 4,
 "nbformat_minor": 5
}
